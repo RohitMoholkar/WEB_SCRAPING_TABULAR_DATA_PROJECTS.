{
 "cells": [
  {
   "cell_type": "code",
   "execution_count": 1,
   "id": "c643ef2d",
   "metadata": {},
   "outputs": [],
   "source": [
    "# Movie Gross Margin Data Throughout All Time. "
   ]
  },
  {
   "cell_type": "code",
   "execution_count": 2,
   "id": "e6f2ac2d",
   "metadata": {},
   "outputs": [],
   "source": [
    "import pandas as pd\n",
    "import requests \n",
    "from bs4 import BeautifulSoup"
   ]
  },
  {
   "cell_type": "code",
   "execution_count": 3,
   "id": "6abc0c87",
   "metadata": {},
   "outputs": [],
   "source": [
    "URL = 'https://www.boxofficemojo.com/chart/top_lifetime_gross/' "
   ]
  },
  {
   "cell_type": "code",
   "execution_count": 4,
   "id": "39e61dcd",
   "metadata": {},
   "outputs": [],
   "source": [
    "response = requests.get(URL) "
   ]
  },
  {
   "cell_type": "code",
   "execution_count": 5,
   "id": "4e18128c",
   "metadata": {},
   "outputs": [
    {
     "data": {
      "text/plain": [
       "<Response [200]>"
      ]
     },
     "execution_count": 5,
     "metadata": {},
     "output_type": "execute_result"
    }
   ],
   "source": [
    "response"
   ]
  },
  {
   "cell_type": "code",
   "execution_count": 6,
   "id": "cba4944c",
   "metadata": {},
   "outputs": [],
   "source": [
    "# response.text"
   ]
  },
  {
   "cell_type": "code",
   "execution_count": 7,
   "id": "4f5a2b03",
   "metadata": {},
   "outputs": [
    {
     "data": {
      "text/plain": [
       "str"
      ]
     },
     "execution_count": 7,
     "metadata": {},
     "output_type": "execute_result"
    }
   ],
   "source": [
    "type(response.text)"
   ]
  },
  {
   "cell_type": "code",
   "execution_count": 8,
   "id": "b5c9801e",
   "metadata": {},
   "outputs": [],
   "source": [
    "# response.content"
   ]
  },
  {
   "cell_type": "code",
   "execution_count": 9,
   "id": "4d381d1a",
   "metadata": {},
   "outputs": [
    {
     "data": {
      "text/plain": [
       "bytes"
      ]
     },
     "execution_count": 9,
     "metadata": {},
     "output_type": "execute_result"
    }
   ],
   "source": [
    "type(response.content)"
   ]
  },
  {
   "cell_type": "code",
   "execution_count": 10,
   "id": "a991b625",
   "metadata": {},
   "outputs": [],
   "source": [
    "info = BeautifulSoup(response.content) "
   ]
  },
  {
   "cell_type": "code",
   "execution_count": 11,
   "id": "b6970243",
   "metadata": {},
   "outputs": [],
   "source": [
    "# info"
   ]
  },
  {
   "cell_type": "code",
   "execution_count": 12,
   "id": "be9fd8aa",
   "metadata": {},
   "outputs": [],
   "source": [
    "# info.prettify() "
   ]
  },
  {
   "cell_type": "code",
   "execution_count": 13,
   "id": "262f261b",
   "metadata": {},
   "outputs": [],
   "source": [
    "# info.find('div', class_='a-section imdb-scroll-table-inner') "
   ]
  },
  {
   "cell_type": "code",
   "execution_count": 14,
   "id": "c6c51ea5",
   "metadata": {},
   "outputs": [],
   "source": [
    "header_info = info.find('table', class_='a-bordered a-horizontal-stripes a-size-base a-span12 mojo-body-table mojo-table-annotated') "
   ]
  },
  {
   "cell_type": "code",
   "execution_count": 15,
   "id": "7e1c7a35",
   "metadata": {},
   "outputs": [],
   "source": [
    "# header_info"
   ]
  },
  {
   "cell_type": "code",
   "execution_count": 16,
   "id": "96bc4c47",
   "metadata": {},
   "outputs": [],
   "source": [
    "temp_titles = header_info.find_all('th') "
   ]
  },
  {
   "cell_type": "code",
   "execution_count": 17,
   "id": "270c5b4d",
   "metadata": {},
   "outputs": [
    {
     "data": {
      "text/plain": [
       "[<th class=\"a-text-right mojo-field-type-rank a-nowrap\"><span title=\"Rank\">Rank</span>\n",
       " </th>,\n",
       " <th class=\"a-text-left mojo-field-type-title a-nowrap\"><span title=\"Title\">Title</span>\n",
       " </th>,\n",
       " <th class=\"a-text-right mojo-field-type-money a-nowrap\"><span title=\"Lifetime Gross\">Lifetime Gross</span>\n",
       " </th>,\n",
       " <th class=\"a-text-left mojo-field-type-year a-nowrap\"><span title=\"Year\">Year</span>\n",
       " </th>]"
      ]
     },
     "execution_count": 17,
     "metadata": {},
     "output_type": "execute_result"
    }
   ],
   "source": [
    "temp_titles"
   ]
  },
  {
   "cell_type": "code",
   "execution_count": 18,
   "id": "f303e42a",
   "metadata": {},
   "outputs": [
    {
     "data": {
      "text/plain": [
       "['Rank', 'Title', 'Lifetime Gross', 'Year']"
      ]
     },
     "execution_count": 18,
     "metadata": {},
     "output_type": "execute_result"
    }
   ],
   "source": [
    "titles_list = [] \n",
    "\n",
    "for val in temp_titles:\n",
    "    \n",
    "    titles_list.append(val.text.strip()) \n",
    "\n",
    "titles_list "
   ]
  },
  {
   "cell_type": "code",
   "execution_count": 19,
   "id": "14cd77e1",
   "metadata": {},
   "outputs": [],
   "source": [
    "DataFrame = pd.DataFrame(columns=['Rank', 'Title', 'Lifetime Gross', 'Year']) "
   ]
  },
  {
   "cell_type": "code",
   "execution_count": 20,
   "id": "7aee4618",
   "metadata": {},
   "outputs": [
    {
     "data": {
      "text/html": [
       "<div>\n",
       "<style scoped>\n",
       "    .dataframe tbody tr th:only-of-type {\n",
       "        vertical-align: middle;\n",
       "    }\n",
       "\n",
       "    .dataframe tbody tr th {\n",
       "        vertical-align: top;\n",
       "    }\n",
       "\n",
       "    .dataframe thead th {\n",
       "        text-align: right;\n",
       "    }\n",
       "</style>\n",
       "<table border=\"1\" class=\"dataframe\">\n",
       "  <thead>\n",
       "    <tr style=\"text-align: right;\">\n",
       "      <th></th>\n",
       "      <th>Rank</th>\n",
       "      <th>Title</th>\n",
       "      <th>Lifetime Gross</th>\n",
       "      <th>Year</th>\n",
       "    </tr>\n",
       "  </thead>\n",
       "  <tbody>\n",
       "  </tbody>\n",
       "</table>\n",
       "</div>"
      ],
      "text/plain": [
       "Empty DataFrame\n",
       "Columns: [Rank, Title, Lifetime Gross, Year]\n",
       "Index: []"
      ]
     },
     "execution_count": 20,
     "metadata": {},
     "output_type": "execute_result"
    }
   ],
   "source": [
    "DataFrame"
   ]
  },
  {
   "cell_type": "code",
   "execution_count": 21,
   "id": "1e483264",
   "metadata": {},
   "outputs": [],
   "source": [
    "data_info = info.find_all('tr') "
   ]
  },
  {
   "cell_type": "code",
   "execution_count": 22,
   "id": "f614ae2d",
   "metadata": {},
   "outputs": [],
   "source": [
    "# data_info"
   ]
  },
  {
   "cell_type": "code",
   "execution_count": 23,
   "id": "3e5ab494",
   "metadata": {},
   "outputs": [
    {
     "name": "stdout",
     "output_type": "stream",
     "text": [
      "['1', 'Star Wars: Episode VII - The Force Awakens', '$936,662,225', '2015']\n",
      "['2', 'Avengers: Endgame', '$858,373,000', '2019']\n",
      "['3', 'Spider-Man: No Way Home', '$814,115,070', '2021']\n",
      "['4', 'Avatar', '$785,221,649', '2009']\n",
      "['5', 'Top Gun: Maverick', '$718,732,821', '2022']\n",
      "['6', 'Black Panther', '$700,426,566', '2018']\n",
      "['7', 'Avatar: The Way of Water', '$684,075,767', '2022']\n",
      "['8', 'Avengers: Infinity War', '$678,815,482', '2018']\n",
      "['9', 'Titanic', '$674,292,608', '1997']\n",
      "['10', 'Jurassic World', '$653,406,625', '2015']\n",
      "['11', 'Barbie', '$636,203,114', '2023']\n",
      "['12', 'The Avengers', '$623,357,910', '2012']\n",
      "['13', 'Star Wars: Episode VIII - The Last Jedi', '$620,181,382', '2017']\n",
      "['14', 'Incredibles 2', '$608,581,744', '2018']\n",
      "['15', 'The Super Mario Bros. Movie', '$574,934,330', '2023']\n",
      "['16', 'The Lion King', '$543,638,043', '2019']\n",
      "['17', 'The Dark Knight', '$534,987,076', '2008']\n",
      "['18', 'Rogue One: A Star Wars Story', '$533,539,991', '2016']\n",
      "['19', 'Star Wars: Episode IX - The Rise of Skywalker', '$515,202,542', '2019']\n",
      "['20', 'Beauty and the Beast', '$504,481,165', '2017']\n",
      "['21', 'Finding Dory', '$486,295,561', '2016']\n",
      "['22', 'Frozen II', '$477,373,578', '2019']\n",
      "['23', 'Star Wars: Episode I - The Phantom Menace', '$474,544,677', '1999']\n",
      "['24', 'Star Wars: Episode IV - A New Hope', '$460,998,507', '1977']\n",
      "['25', 'Avengers: Age of Ultron', '$459,005,868', '2015']\n",
      "['26', 'Black Panther: Wakanda Forever', '$453,829,060', '2022']\n",
      "['27', 'The Dark Knight Rises', '$448,149,584', '2012']\n",
      "['28', 'Shrek 2', '$441,226,247', '2004']\n",
      "['29', 'E.T. the Extra-Terrestrial', '$437,141,279', '1982']\n",
      "['30', 'Toy Story 4', '$434,038,008', '2019']\n",
      "['31', 'Captain Marvel', '$426,829,839', '2019']\n",
      "['32', 'The Hunger Games: Catching Fire', '$424,668,047', '2013']\n",
      "['33', \"Pirates of the Caribbean: Dead Man's Chest\", '$423,315,812', '2006']\n",
      "['34', 'The Lion King', '$422,783,777', '1994']\n",
      "['35', 'Jurassic World: Fallen Kingdom', '$417,719,760', '2018']\n",
      "['36', 'Toy Story 3', '$415,004,880', '2010']\n",
      "['37', 'Wonder Woman', '$412,845,172', '2017']\n",
      "['38', 'Doctor Strange in the Multiverse of Madness', '$411,331,607', '2022']\n",
      "['39', 'Iron Man 3', '$409,013,994', '2013']\n",
      "['40', 'Captain America: Civil War', '$408,084,349', '2016']\n",
      "['41', 'The Hunger Games', '$408,010,692', '2012']\n",
      "['42', 'Jurassic Park', '$407,185,075', '1993']\n",
      "['43', 'Spider-Man', '$407,022,860', '2002']\n",
      "['44', 'Jumanji: Welcome to the Jungle', '$404,540,171', '2017']\n",
      "['45', 'Transformers: Revenge of the Fallen', '$402,111,870', '2009']\n",
      "['46', 'Frozen', '$400,953,009', '2013']\n",
      "['47', 'Spider-Man: Far from Home', '$390,532,085', '2019']\n",
      "['48', 'Guardians of the Galaxy Vol. 2', '$389,813,101', '2017']\n",
      "['49', 'Harry Potter and the Deathly Hallows: Part 2', '$381,447,587', '2011']\n",
      "['50', 'Spider-Man: Across the Spider-Verse', '$381,311,319', '2023']\n",
      "['51', 'Finding Nemo', '$380,843,261', '2003']\n",
      "['52', 'Star Wars: Episode III - Revenge of the Sith', '$380,270,577', '2005']\n",
      "['53', 'The Lord of the Rings: The Return of the King', '$379,427,292', '2003']\n",
      "['54', 'Jurassic World Dominion', '$376,851,080', '2022']\n",
      "['55', 'Spider-Man 2', '$373,585,825', '2004']\n",
      "['56', 'The Passion of the Christ', '$370,782,930', '2004']\n",
      "['57', 'Minions: The Rise of Gru', '$369,695,210', '2022']\n",
      "['58', 'The Batman', '$369,345,583', '2022']\n",
      "['59', 'The Secret Life of Pets', '$368,384,330', '2016']\n",
      "['60', 'Despicable Me 2', '$368,065,385', '2013']\n",
      "['61', 'The Jungle Book', '$364,001,123', '2016']\n",
      "['62', 'Deadpool', '$363,070,709', '2016']\n",
      "['63', 'Guardians of the Galaxy Vol. 3', '$358,995,815', '2023']\n",
      "['64', 'Inside Out', '$356,921,711', '2015']\n",
      "['65', 'Aladdin', '$355,559,216', '2019']\n",
      "['66', 'Furious 7', '$353,007,020', '2015']\n",
      "['67', 'Transformers: Dark of the Moon', '$352,390,543', '2011']\n",
      "['68', 'American Sniper', '$350,159,020', '2014']\n",
      "['69', 'Thor: Love and Thunder', '$343,256,830', '2022']\n",
      "['70', 'The Lord of the Rings: The Two Towers', '$342,952,511', '2002']\n",
      "['71', 'Zootopia', '$341,268,248', '2016']\n",
      "['72', 'The Hunger Games: Mockingjay - Part 1', '$337,135,885', '2014']\n",
      "['73', 'Spider-Man 3', '$336,530,303', '2007']\n",
      "['74', 'Minions', '$336,045,770', '2015']\n",
      "['75', 'Joker', '$335,477,657', '2019']\n",
      "['76', 'Aquaman', '$335,104,314', '2018']\n",
      "['77', 'Spider-Man: Homecoming', '$334,201,140', '2017']\n",
      "['78', 'Alice in Wonderland', '$334,191,110', '2010']\n",
      "['79', 'Guardians of the Galaxy', '$333,718,600', '2014']\n",
      "['80', 'Forrest Gump', '$330,455,270', '1994']\n",
      "['81', 'Batman v Superman: Dawn of Justice', '$330,360,194', '2016']\n",
      "['82', 'It', '$328,874,981', '2017']\n",
      "['83', 'Oppenheimer', '$325,389,840', '2023']\n",
      "['84', 'Suicide Squad', '$325,100,054', '2016']\n",
      "['85', 'Deadpool 2', '$324,591,735', '2018']\n",
      "['86', 'Shrek the Third', '$322,719,944', '2007']\n",
      "['87', 'Jumanji: The Next Level', '$320,314,960', '2019']\n",
      "['88', 'Transformers', '$319,246,193', '2007']\n",
      "['89', 'Iron Man', '$319,034,126', '2008']\n",
      "['90', \"Harry Potter and the Sorcerer's Stone\", '$318,886,962', '2001']\n",
      "['91', 'Indiana Jones and the Kingdom of the Crystal Skull', '$317,101,119', '2008']\n",
      "['92', 'Star Wars: Episode VI - Return of the Jedi', '$316,566,101', '1983']\n",
      "['93', 'The Lord of the Rings: The Fellowship of the Ring', '$316,115,420', '2001']\n",
      "['94', 'Thor: Ragnarok', '$315,058,289', '2017']\n",
      "['95', 'Iron Man 2', '$312,433,331', '2010']\n",
      "['96', 'Star Wars: Episode II - Attack of the Clones', '$310,676,740', '2002']\n",
      "['97', \"Pirates of the Caribbean: At World's End\", '$309,420,425', '2007']\n",
      "['98', 'Independence Day', '$306,169,268', '1996']\n",
      "['99', 'Pirates of the Caribbean: The Curse of the Black Pearl', '$305,413,918', '2003']\n",
      "['100', 'Skyfall', '$304,360,277', '2012']\n",
      "['101', 'The Hobbit: An Unexpected Journey', '$303,030,651', '2012']\n",
      "['102', 'Harry Potter and the Half-Blood Prince', '$302,334,374', '2009']\n",
      "['103', 'The Twilight Saga: Eclipse', '$300,531,751', '2010']\n",
      "['104', 'The Little Mermaid', '$298,172,056', '2023']\n",
      "['105', 'The Twilight Saga: New Moon', '$297,816,253', '2009']\n",
      "['106', 'Harry Potter and the Deathly Hallows: Part 1', '$296,374,621', '2010']\n",
      "['107', 'The Sixth Sense', '$293,506,292', '1999']\n",
      "['108', 'Up', '$293,004,164', '2009']\n",
      "['109', 'Star Wars: Episode V - The Empire Strikes Back', '$292,753,960', '1980']\n",
      "['110', 'Inception', '$292,587,330', '2010']\n",
      "['111', 'Harry Potter and the Order of the Phoenix', '$292,382,727', '2007']\n",
      "['112', 'The Twilight Saga: Breaking Dawn - Part 2', '$292,324,737', '2012']\n",
      "['113', 'The Chronicles of Narnia: The Lion, the Witch and the Wardrobe', '$291,710,957', '2005']\n",
      "['114', 'Man of Steel', '$291,045,518', '2013']\n",
      "['115', 'Monsters, Inc.', '$290,642,256', '2001']\n",
      "['116', 'Harry Potter and the Goblet of Fire', '$290,469,928', '2005']\n",
      "['117', 'Home Alone', '$285,761,243', '1990']\n",
      "['118', 'The Hunger Games: Mockingjay - Part 2', '$281,723,902', '2015']\n",
      "['119', 'The Matrix Reloaded', '$281,576,461', '2003']\n",
      "['120', 'The Twilight Saga: Breaking Dawn - Part 1', '$281,287,133', '2011']\n",
      "['121', 'Meet the Fockers', '$279,261,160', '2004']\n",
      "['122', 'The Hangover', '$277,339,746', '2009']\n",
      "['123', 'Gravity', '$274,092,705', '2013']\n",
      "['124', 'The Grinch', '$271,384,731', '2018']\n",
      "['125', 'Sing', '$270,578,425', '2016']\n",
      "['126', 'Monsters University', '$268,492,764', '2013']\n",
      "['127', 'Shrek', '$268,163,011', '2001']\n",
      "['128', 'Jaws', '$265,859,065', '1975']\n",
      "['129', 'Despicable Me 3', '$264,624,300', '2017']\n",
      "['130', 'Harry Potter and the Chamber of Secrets', '$262,641,637', '2002']\n",
      "['131', 'The Amazing Spider-Man', '$262,030,663', '2012']\n",
      "['132', 'The Incredibles', '$261,441,092', '2004']\n",
      "['133', 'How the Grinch Stole Christmas', '$260,715,005', '2000']\n",
      "['134', 'Captain America: The Winter Soldier', '$259,766,572', '2014']\n",
      "['135', 'The Hobbit: The Desolation of Smaug', '$258,387,334', '2013']\n",
      "['136', 'The Lego Movie', '$257,966,122', '2014']\n",
      "['137', 'Star Trek', '$257,730,019', '2009']\n",
      "['138', 'I Am Legend', '$256,393,010', '2007']\n",
      "['139', 'The Blind Side', '$255,982,860', '2009']\n",
      "['140', 'The Hobbit: The Battle of the Five Armies', '$255,138,261', '2014']\n",
      "['141', 'The Hangover Part II', '$254,464,305', '2011']\n",
      "['142', 'Despicable Me', '$251,557,985', '2010']\n",
      "['143', 'Batman', '$251,409,241', '1989']\n",
      "['144', 'Night at the Museum', '$250,863,268', '2006']\n",
      "['145', 'Men in Black', '$250,690,539', '1997']\n",
      "['146', 'Harry Potter and the Prisoner of Azkaban', '$250,105,651', '2004']\n",
      "['147', 'Moana', '$248,757,044', '2016']\n",
      "['148', 'Raiders of the Lost Ark', '$248,159,971', '1981']\n",
      "['149', 'Toy Story 2', '$245,852,179', '1999']\n",
      "['150', 'Transformers: Age of Extinction', '$245,439,076', '2014']\n",
      "['151', 'Cars', '$244,082,982', '2006']\n",
      "['152', 'Ghostbusters', '$243,578,797', '1984']\n",
      "['153', 'Bruce Almighty', '$242,829,261', '2003']\n",
      "['154', 'Twister', '$241,830,615', '1996']\n",
      "['155', 'My Big Fat Greek Wedding', '$241,438,208', '2002']\n",
      "['156', 'Maleficent', '$241,410,378', '2014']\n",
      "['157', 'Pirates of the Caribbean: On Stranger Tides', '$241,071,802', '2011']\n",
      "['158', 'Shrek Forever After', '$238,736,787', '2010']\n",
      "['159', 'Fast & Furious 6', '$238,679,850', '2013']\n",
      "['160', 'Brave', '$237,283,207', '2012']\n",
      "['161', 'Oz the Great and Powerful', '$234,911,825', '2013']\n",
      "['162', 'Beverly Hills Cop', '$234,760,478', '1984']\n",
      "['163', 'X-Men: The Last Stand', '$234,362,462', '2006']\n",
      "['164', 'War of the Worlds', '$234,280,354', '2005']\n",
      "['165', 'Fantastic Beasts and Where to Find Them', '$234,037,575', '2016']\n",
      "['166', 'X-Men: Days of Future Past', '$233,921,534', '2014']\n",
      "['167', 'Cast Away', '$233,632,142', '2000']\n",
      "['168', 'The Exorcist', '$233,005,644', '1973']\n",
      "['169', 'Doctor Strange', '$232,641,920', '2016']\n",
      "['170', 'The Lost World: Jurassic Park', '$229,086,679', '1997']\n",
      "['171', 'Justice League', '$229,024,295', '2017']\n",
      "['172', 'Star Trek Into Darkness', '$228,778,661', '2013']\n",
      "['173', 'The Martian', '$228,433,663', '2015']\n",
      "['174', 'Signs', '$227,966,634', '2002']\n",
      "['175', 'Hancock', '$227,946,274', '2008']\n",
      "['176', 'The Bourne Ultimatum', '$227,471,070', '2007']\n",
      "['177', 'Logan', '$226,277,068', '2017']\n",
      "['178', 'Rush Hour 2', '$226,164,286', '2001']\n",
      "['179', 'The Fate of the Furious', '$226,008,385', '2017']\n",
      "['180', 'Shang-Chi and the Legend of the Ten Rings', '$224,543,292', '2021']\n",
      "['181', 'WALL·E', '$223,808,164', '2008']\n",
      "['182', 'Toy Story', '$223,225,679', '1995']\n",
      "['183', 'Big Hero 6', '$222,527,828', '2014']\n",
      "['184', 'Mission: Impossible - Fallout', '$220,159,104', '2018']\n",
      "['185', 'National Treasure: Book of Secrets', '$219,964,115', '2007']\n",
      "['186', 'Alvin and the Chipmunks: The Squeakquel', '$219,614,612', '2009']\n",
      "['187', 'Mrs. Doubtfire', '$219,195,243', '1993']\n",
      "['188', 'Beauty and the Beast', '$218,967,620', '1991']\n",
      "['189', 'Ted', '$218,815,487', '2012']\n",
      "['190', 'King Kong', '$218,080,025', '2005']\n",
      "['191', 'Ghost', '$217,631,306', '1990']\n",
      "['192', 'How to Train Your Dragon', '$217,581,231', '2010']\n",
      "['193', 'The Da Vinci Code', '$217,536,138', '2006']\n",
      "['194', 'Aladdin', '$217,350,219', '1992']\n",
      "['195', 'Alvin and the Chipmunks', '$217,326,974', '2007']\n",
      "['196', 'Saving Private Ryan', '$217,049,603', '1998']\n",
      "['197', 'Bohemian Rhapsody', '$216,668,042', '2018']\n",
      "['198', 'Ant-Man and the Wasp', '$216,648,740', '2018']\n",
      "['199', \"Madagascar 3: Europe's Most Wanted\", '$216,391,482', '2012']\n",
      "['200', 'Kung Fu Panda', '$215,771,591', '2008']\n"
     ]
    }
   ],
   "source": [
    "for val in data_info[1:]:\n",
    "    \n",
    "    data = val.find_all('td') \n",
    "    \n",
    "    data_list = []\n",
    "    \n",
    "    for value in data:\n",
    "        \n",
    "        data_list.append(value.text.strip())  \n",
    "    \n",
    "    print(data_list) \n",
    "    \n",
    "    len_df = len(DataFrame) \n",
    "    \n",
    "    DataFrame.loc[len_df] = data_list"
   ]
  },
  {
   "cell_type": "code",
   "execution_count": 24,
   "id": "230496ae",
   "metadata": {},
   "outputs": [
    {
     "data": {
      "text/html": [
       "<div>\n",
       "<style scoped>\n",
       "    .dataframe tbody tr th:only-of-type {\n",
       "        vertical-align: middle;\n",
       "    }\n",
       "\n",
       "    .dataframe tbody tr th {\n",
       "        vertical-align: top;\n",
       "    }\n",
       "\n",
       "    .dataframe thead th {\n",
       "        text-align: right;\n",
       "    }\n",
       "</style>\n",
       "<table border=\"1\" class=\"dataframe\">\n",
       "  <thead>\n",
       "    <tr style=\"text-align: right;\">\n",
       "      <th></th>\n",
       "      <th>Rank</th>\n",
       "      <th>Title</th>\n",
       "      <th>Lifetime Gross</th>\n",
       "      <th>Year</th>\n",
       "    </tr>\n",
       "  </thead>\n",
       "  <tbody>\n",
       "    <tr>\n",
       "      <th>0</th>\n",
       "      <td>1</td>\n",
       "      <td>Star Wars: Episode VII - The Force Awakens</td>\n",
       "      <td>$936,662,225</td>\n",
       "      <td>2015</td>\n",
       "    </tr>\n",
       "    <tr>\n",
       "      <th>1</th>\n",
       "      <td>2</td>\n",
       "      <td>Avengers: Endgame</td>\n",
       "      <td>$858,373,000</td>\n",
       "      <td>2019</td>\n",
       "    </tr>\n",
       "    <tr>\n",
       "      <th>2</th>\n",
       "      <td>3</td>\n",
       "      <td>Spider-Man: No Way Home</td>\n",
       "      <td>$814,115,070</td>\n",
       "      <td>2021</td>\n",
       "    </tr>\n",
       "    <tr>\n",
       "      <th>3</th>\n",
       "      <td>4</td>\n",
       "      <td>Avatar</td>\n",
       "      <td>$785,221,649</td>\n",
       "      <td>2009</td>\n",
       "    </tr>\n",
       "    <tr>\n",
       "      <th>4</th>\n",
       "      <td>5</td>\n",
       "      <td>Top Gun: Maverick</td>\n",
       "      <td>$718,732,821</td>\n",
       "      <td>2022</td>\n",
       "    </tr>\n",
       "    <tr>\n",
       "      <th>...</th>\n",
       "      <td>...</td>\n",
       "      <td>...</td>\n",
       "      <td>...</td>\n",
       "      <td>...</td>\n",
       "    </tr>\n",
       "    <tr>\n",
       "      <th>195</th>\n",
       "      <td>196</td>\n",
       "      <td>Saving Private Ryan</td>\n",
       "      <td>$217,049,603</td>\n",
       "      <td>1998</td>\n",
       "    </tr>\n",
       "    <tr>\n",
       "      <th>196</th>\n",
       "      <td>197</td>\n",
       "      <td>Bohemian Rhapsody</td>\n",
       "      <td>$216,668,042</td>\n",
       "      <td>2018</td>\n",
       "    </tr>\n",
       "    <tr>\n",
       "      <th>197</th>\n",
       "      <td>198</td>\n",
       "      <td>Ant-Man and the Wasp</td>\n",
       "      <td>$216,648,740</td>\n",
       "      <td>2018</td>\n",
       "    </tr>\n",
       "    <tr>\n",
       "      <th>198</th>\n",
       "      <td>199</td>\n",
       "      <td>Madagascar 3: Europe's Most Wanted</td>\n",
       "      <td>$216,391,482</td>\n",
       "      <td>2012</td>\n",
       "    </tr>\n",
       "    <tr>\n",
       "      <th>199</th>\n",
       "      <td>200</td>\n",
       "      <td>Kung Fu Panda</td>\n",
       "      <td>$215,771,591</td>\n",
       "      <td>2008</td>\n",
       "    </tr>\n",
       "  </tbody>\n",
       "</table>\n",
       "<p>200 rows × 4 columns</p>\n",
       "</div>"
      ],
      "text/plain": [
       "    Rank                                       Title Lifetime Gross  Year\n",
       "0      1  Star Wars: Episode VII - The Force Awakens   $936,662,225  2015\n",
       "1      2                           Avengers: Endgame   $858,373,000  2019\n",
       "2      3                     Spider-Man: No Way Home   $814,115,070  2021\n",
       "3      4                                      Avatar   $785,221,649  2009\n",
       "4      5                           Top Gun: Maverick   $718,732,821  2022\n",
       "..   ...                                         ...            ...   ...\n",
       "195  196                         Saving Private Ryan   $217,049,603  1998\n",
       "196  197                           Bohemian Rhapsody   $216,668,042  2018\n",
       "197  198                        Ant-Man and the Wasp   $216,648,740  2018\n",
       "198  199          Madagascar 3: Europe's Most Wanted   $216,391,482  2012\n",
       "199  200                               Kung Fu Panda   $215,771,591  2008\n",
       "\n",
       "[200 rows x 4 columns]"
      ]
     },
     "execution_count": 24,
     "metadata": {},
     "output_type": "execute_result"
    }
   ],
   "source": [
    "DataFrame"
   ]
  },
  {
   "cell_type": "code",
   "execution_count": 34,
   "id": "2f8bad50",
   "metadata": {},
   "outputs": [],
   "source": [
    "DataFrame.to_csv(r'C:\\Users\\rohit\\OneDrive\\Desktop\\DataSets\\Created_Datasets\\movie_gross_margin.csv', index=False) "
   ]
  }
 ],
 "metadata": {
  "kernelspec": {
   "display_name": "Python 3 (ipykernel)",
   "language": "python",
   "name": "python3"
  },
  "language_info": {
   "codemirror_mode": {
    "name": "ipython",
    "version": 3
   },
   "file_extension": ".py",
   "mimetype": "text/x-python",
   "name": "python",
   "nbconvert_exporter": "python",
   "pygments_lexer": "ipython3",
   "version": "3.9.13"
  }
 },
 "nbformat": 4,
 "nbformat_minor": 5
}
